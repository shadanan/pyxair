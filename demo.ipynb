{
 "cells": [
  {
   "cell_type": "code",
   "execution_count": 1,
   "metadata": {},
   "outputs": [],
   "source": [
    "import asyncio\n",
    "import pyxair"
   ]
  },
  {
   "cell_type": "markdown",
   "metadata": {},
   "source": [
    "# XAir Library Demo"
   ]
  },
  {
   "cell_type": "markdown",
   "metadata": {},
   "source": [
    "## Detect XAir Devices"
   ]
  },
  {
   "cell_type": "code",
   "execution_count": 2,
   "metadata": {},
   "outputs": [
    {
     "output_type": "execute_result",
     "data": {
      "text/plain": "XInfo(ip='192.168.86.162', port=10024, name='XR18-5E-91-5A', model='XR18', version='1.17')"
     },
     "metadata": {},
     "execution_count": 2
    }
   ],
   "source": [
    "xinfo = pyxair.auto_detect()\n",
    "xinfo"
   ]
  },
  {
   "cell_type": "markdown",
   "metadata": {},
   "source": [
    "## Create XAir Client"
   ]
  },
  {
   "cell_type": "code",
   "execution_count": 3,
   "metadata": {},
   "outputs": [
    {
     "output_type": "execute_result",
     "data": {
      "text/plain": "XAir(XInfo(ip='192.168.86.162', port=10024, name='XR18-5E-91-5A', model='XR18', version='1.17'))"
     },
     "metadata": {},
     "execution_count": 3
    }
   ],
   "source": [
    "xair = pyxair.XAir(xinfo)\n",
    "xair"
   ]
  },
  {
   "cell_type": "markdown",
   "metadata": {},
   "source": [
    "## Run the Monitor Asynchronously"
   ]
  },
  {
   "cell_type": "code",
   "execution_count": 4,
   "metadata": {},
   "outputs": [],
   "source": [
    "pubsub_task = asyncio.create_task(xair.monitor())"
   ]
  },
  {
   "cell_type": "markdown",
   "metadata": {},
   "source": [
    "## Get & Put"
   ]
  },
  {
   "cell_type": "markdown",
   "metadata": {},
   "source": [
    "#### Using `get` to retrieve status:"
   ]
  },
  {
   "cell_type": "code",
   "execution_count": 5,
   "metadata": {},
   "outputs": [
    {
     "output_type": "execute_result",
     "data": {
      "text/plain": "OscMessage(address='/status', arguments=['active', '192.168.86.162', 'XR18-5E-91-5A'])"
     },
     "metadata": {},
     "execution_count": 5
    }
   ],
   "source": [
    "await xair.get(\"/status\")"
   ]
  },
  {
   "cell_type": "markdown",
   "metadata": {},
   "source": [
    "#### Using `get` to retrieve main L/R mix:"
   ]
  },
  {
   "cell_type": "code",
   "execution_count": 6,
   "metadata": {},
   "outputs": [
    {
     "output_type": "execute_result",
     "data": {
      "text/plain": "OscMessage(address='/lr/mix/on', arguments=[0])"
     },
     "metadata": {},
     "execution_count": 6
    }
   ],
   "source": [
    "await xair.get(\"/lr/mix/on\")"
   ]
  },
  {
   "cell_type": "markdown",
   "metadata": {},
   "source": [
    "#### After `put` the main L/R mix to unmuted, the main L/R mix is unmuted:"
   ]
  },
  {
   "cell_type": "code",
   "execution_count": 7,
   "metadata": {},
   "outputs": [
    {
     "output_type": "execute_result",
     "data": {
      "text/plain": "OscMessage(address='/lr/mix/on', arguments=[1])"
     },
     "metadata": {},
     "execution_count": 7
    }
   ],
   "source": [
    "xair.put(\"/lr/mix/on\", [1])\n",
    "await xair.get(\"/lr/mix/on\")"
   ]
  },
  {
   "cell_type": "markdown",
   "metadata": {},
   "source": [
    "#### Set the main L/R mix back to muted:"
   ]
  },
  {
   "cell_type": "code",
   "execution_count": 8,
   "metadata": {},
   "outputs": [
    {
     "output_type": "execute_result",
     "data": {
      "text/plain": "OscMessage(address='/lr/mix/on', arguments=[0])"
     },
     "metadata": {},
     "execution_count": 8
    }
   ],
   "source": [
    "xair.put(\"/lr/mix/on\", [0])\n",
    "await xair.get(\"/lr/mix/on\")"
   ]
  },
  {
   "cell_type": "markdown",
   "metadata": {},
   "source": [
    "#### The cache currently has L/R muted:"
   ]
  },
  {
   "cell_type": "code",
   "execution_count": 9,
   "metadata": {},
   "outputs": [
    {
     "output_type": "execute_result",
     "data": {
      "text/plain": "{'/status': OscMessage(address='/status', arguments=['active', '192.168.86.162', 'XR18-5E-91-5A']),\n '/lr/mix/on': OscMessage(address='/lr/mix/on', arguments=[0])}"
     },
     "metadata": {},
     "execution_count": 9
    }
   ],
   "source": [
    "xair._cache"
   ]
  },
  {
   "cell_type": "markdown",
   "metadata": {},
   "source": [
    "#### After using XAir to unmute the L/R channel, the cache has L/R unmuted:"
   ]
  },
  {
   "cell_type": "code",
   "execution_count": 10,
   "metadata": {},
   "outputs": [
    {
     "output_type": "execute_result",
     "data": {
      "text/plain": "{'/status': OscMessage(address='/status', arguments=['active', '192.168.86.162', 'XR18-5E-91-5A']),\n '/lr/mix/on': OscMessage(address='/lr/mix/on', arguments=[1])}"
     },
     "metadata": {},
     "execution_count": 10
    }
   ],
   "source": [
    "xair._cache"
   ]
  },
  {
   "cell_type": "markdown",
   "metadata": {},
   "source": [
    "#### Using `get` adds new OSC message addresses to the cache:"
   ]
  },
  {
   "cell_type": "code",
   "execution_count": 11,
   "metadata": {},
   "outputs": [
    {
     "output_type": "execute_result",
     "data": {
      "text/plain": "OscMessage(address='/lr/mix/fader', arguments=[0.4154447615146637])"
     },
     "metadata": {},
     "execution_count": 11
    }
   ],
   "source": [
    "await xair.get('/lr/mix/fader')"
   ]
  },
  {
   "cell_type": "code",
   "execution_count": 12,
   "metadata": {},
   "outputs": [
    {
     "output_type": "execute_result",
     "data": {
      "text/plain": "{'/status': OscMessage(address='/status', arguments=['active', '192.168.86.162', 'XR18-5E-91-5A']),\n '/lr/mix/on': OscMessage(address='/lr/mix/on', arguments=[1]),\n '/lr/mix/fader': OscMessage(address='/lr/mix/fader', arguments=[0.4154447615146637])}"
     },
     "metadata": {},
     "execution_count": 12
    }
   ],
   "source": [
    "xair._cache"
   ]
  }
 ],
 "metadata": {
  "kernelspec": {
   "display_name": "Python 3",
   "language": "python",
   "name": "python3"
  },
  "language_info": {
   "codemirror_mode": {
    "name": "ipython",
    "version": 3
   },
   "file_extension": ".py",
   "mimetype": "text/x-python",
   "name": "python",
   "nbconvert_exporter": "python",
   "pygments_lexer": "ipython3",
   "version": "3.7.7-final"
  }
 },
 "nbformat": 4,
 "nbformat_minor": 4
}